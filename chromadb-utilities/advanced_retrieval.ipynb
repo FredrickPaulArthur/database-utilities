{
 "cells": [
  {
   "cell_type": "markdown",
   "id": "cfffb568",
   "metadata": {},
   "source": [
    "# Advanced Retrieval for AI with Chroma\n",
    "by DeepLearning.AI"
   ]
  },
  {
   "cell_type": "code",
   "execution_count": 1,
   "id": "5233bbbf",
   "metadata": {},
   "outputs": [
    {
     "name": "stderr",
     "output_type": "stream",
     "text": [
      "<>:4: SyntaxWarning: invalid escape sequence '\\c'\n",
      "<>:4: SyntaxWarning: invalid escape sequence '\\c'\n",
      "C:\\Users\\fredr\\AppData\\Local\\Temp\\ipykernel_12008\\1030811321.py:4: SyntaxWarning: invalid escape sequence '\\c'\n",
      "  reader = PdfReader(\".\\chroma_storage\\cdn-dynmedia-1.microsoft.com.pdf\")\n"
     ]
    },
    {
     "name": "stdout",
     "output_type": "stream",
     "text": [
      "1 \n",
      "Dear shareholders, colleagues, customers, and partners: \n",
      "Fiscal year 2024 was a pivotal year for Microsoft. We entered our 50th year as a company and the second year of the AI \n",
      "platform shift. With these milestones, I’ve found myself reflecting on how Microsoft has remained a consequential company \n",
      "decade after decade in an industry with no franchise value. And I realize that it’s because—time and time again, when tech \n",
      "paradigms have shifted —we have seized the opportunity to reinvent ourselves to stay relevant to our customers, our \n",
      "partners, and our employees. And that’s what we are doing again today.  \n",
      "Microsoft has been a platform and tools company from the start. We were founded in 1975 with a belief in creating \n",
      "technology that would enable others to create their own. And, nearly 50 years later, this belief remains at the heart of our \n",
      "mission to empower every person and every organization on the planet to achieve more.  \n",
      "This year, we moved from talking about AI to helping our customers translate it into real outcomes —one person, one \n",
      "organization, one institution, and one country at a time. We have made remarkable progress on this front across every \n",
      "industry. For example:  \n",
      "• Coles is generating 1.6 billion daily AI predictions across 850 Australian stores, ensuring every shopper finds \n",
      "what they need.  \n",
      "• Unilever is performing thousands of simulations with AI in the time it would take to run tens of laboratory \n",
      "experiments, as it accelerates its product development.  \n",
      "• Developers at Itaú, Brazil’s largest private bank, are coding more efficiently using our AI pair programmer, \n",
      "GitHub Copilot.  \n",
      "• Khan Academy is making tutoring more accessible for students and helping teachers plan more creative \n",
      "lessons, using our small language model Phi.  \n",
      "• Aquafarmers in Indonesia are improving their yields, thanks to an app built with the Azure OpenAI Service, as \n",
      "well as Azure IoT.  \n",
      "• In Kenya, street vendors now have access to credit for the first time, thanks to M -Kopa, a social enterprise \n",
      "using Azure ML to do its forecasting.  \n",
      "• And enterprise customers and their employees around the world, from Amgen and Disney, to Finastra and \n",
      "Vodafone, are using Microsoft 365 Copilot to become more creative and productive.  \n",
      "Financially, the year was also marked by record performance. We delivered over $245  billion in annual revenue, up \n",
      "16 percent year-over-year, and over $109 billion in operating income, up 24 percent.  \n",
      "Going forward, we are focused on three priorities: First, prioritizing fundamentals, with security above all else. We launched \n",
      "the Secure Future Initiative (SFI) this year, bringing together every part of our organization to advance cybersecurity \n",
      "protection. Second, driving trustworthy AI innovation across our entire portfolio while continuing to scale our cloud business. \n",
      "And, finally, managing our cost structure dynamically to generate durable, long-term operating leverage. All three priorities \n",
      "are critical to our ability to continue thriving as a company as we raise the bar on our operational excellence, with a focus \n",
      "on continuous improvement across everything we do.  \n",
      "AGE OF AI  \n",
      "If we go back 70 years to the beginning of modern computing, our industry has had two dreams: First, can computers \n",
      "understand us instead of us having to understand computers? And second, as we digitize more of the world —including \n",
      "people, places, and things—can computers help us reason, plan, and act more effectively using all that information? Over \n",
      "the past year, we have had breakthroughs on both fronts.  \n",
      "The core underlying force behind these breakthroughs is scaling laws. Just like Moore’s Law drove the information \n",
      "revolution, the scaling laws of deep neural networks (DNN) and transformers are driving today’s AI revolution. Up until the \n",
      "DNN inflection point, progress in compute was keeping up with Moore’s Law—doubling every two years. But we have now \n",
      "started to see progress in AI performance double roughly every six months.  \n",
      "  \n",
      "There are three capabilities coming together because of these scaling laws. First, we have a new natural user interface that \n",
      "is multimodal. It supports speech, images, and videos —both as input and output. We have memory that retains important \n",
      "context, recalling both our personal knowledge and data across devices, apps, and the web. And, finally, we have new\n"
     ]
    }
   ],
   "source": [
    "from pypdf import PdfReader\n",
    "from pprint import pprint\n",
    "\n",
    "reader = PdfReader(\".\\chroma_storage\\cdn-dynmedia-1.microsoft.com.pdf\")\n",
    "pdf_texts = [p.extract_text().strip() for p in reader.pages]\n",
    "\n",
    "# Filter the empty strings\n",
    "pdf_texts = [text for text in pdf_texts if text]\n",
    "\n",
    "print(pdf_texts[0])"
   ]
  },
  {
   "cell_type": "markdown",
   "id": "1d7d2796",
   "metadata": {},
   "source": [
    "**Chunking these pages by Characters and Tokens**"
   ]
  },
  {
   "cell_type": "code",
   "execution_count": 2,
   "id": "edf36f15",
   "metadata": {},
   "outputs": [],
   "source": [
    "from langchain.text_splitter import RecursiveCharacterTextSplitter, SentenceTransformersTokenTextSplitter"
   ]
  },
  {
   "cell_type": "code",
   "execution_count": 3,
   "id": "4df845e3",
   "metadata": {},
   "outputs": [
    {
     "name": "stdout",
     "output_type": "stream",
     "text": [
      "The 10th chunk:\n",
      " 3 \n",
      "staying in their flow and bringing the joy back to coding. This year, we also introduced Copilot Workspace, a Copilot-native \n",
      "developer environment, which helps any developer go from idea, to code, to software—all in natural language.  \n",
      "We are also integrating generative AI across Power Platform, enabling anyone to use natural language to create apps, \n",
      "automate workflows, or build a website. In total, we now have 48  million monthly active users of Power Platform, up \n",
      "40 percent year-over-year.  \n",
      "Modern work  \n",
      "Microsoft 365 Copilot is becoming a daily habit for knowledge workers, transforming their work, workflow, and work artifacts. \n",
      "Adoption has been faster than any other new Microsoft 365 suite. And employees at nearly 60  percent of the Fortune 500 \n",
      "now use Copilot to complete tasks faster, hold more effective meetings, and automate business workflows and processes.\n",
      "\n",
      "Total chunks: 342\n"
     ]
    }
   ],
   "source": [
    "character_splitter = RecursiveCharacterTextSplitter(\n",
    "    separators=[\"\\n\\n\", \"\\n\", \". \", \" \", \"\"],   # Perference from first to last, splits based on \\n\\n first as chunks with max chunk size.\n",
    "    chunk_size=1000,                # If chunk size gets more than 1000, it splits THAT chunk based on \\n, and so on.\n",
    "    chunk_overlap=0\n",
    ")\n",
    "character_split_texts = character_splitter.split_text(\"\\n\\n\".join(pdf_texts))    # Split the whole file.\n",
    "\n",
    "print(\"The 10th chunk:\\n\", character_split_texts[10])\n",
    "print(f\"\\nTotal chunks: {len(character_split_texts)}\")"
   ]
  },
  {
   "cell_type": "code",
   "execution_count": 4,
   "id": "835d2793",
   "metadata": {},
   "outputs": [
    {
     "name": "stdout",
     "output_type": "stream",
     "text": [
      "('The 10th chunk:\\n'\n",
      " '3 staying in their flow and bringing the joy back to coding. this year, we also introduced copilot workspace, a copilot - native developer '\n",
      " 'environment, which helps any developer go from idea, to code, to software — all in natural language. we are also integrating generative ai across '\n",
      " 'power platform, enabling anyone to use natural language to create apps, automate workflows, or build a website. in total, we now have 48 million '\n",
      " 'monthly active users of power platform, up 40 percent year - over - year. modern work microsoft 365 copilot is becoming a daily habit for '\n",
      " 'knowledge workers, transforming their work, workflow, and work artifacts. adoption has been faster than any other new microsoft 365 suite. and '\n",
      " 'employees at nearly 60 percent of the fortune 500 now use copilot to complete tasks faster, hold more effective meetings, and automate business '\n",
      " 'workflows and processes.')\n",
      "\n",
      "Total chunks: 342\n"
     ]
    }
   ],
   "source": [
    "token_splitter = SentenceTransformersTokenTextSplitter(\n",
    "    chunk_overlap=0,\n",
    "    tokens_per_chunk=256    # Context Window length of the SentenceTransformerEmbeddingModel\n",
    ")\n",
    "\n",
    "token_split_texts = []\n",
    "for text in character_split_texts:\n",
    "    token_split_texts +=token_splitter.split_text(text)\n",
    "\n",
    "pprint(f\"The 10th chunk:\\n{token_split_texts[10]}\", width=150)\n",
    "print(f\"\\nTotal chunks: {len(character_split_texts)}\")"
   ]
  },
  {
   "cell_type": "markdown",
   "id": "3a024f9a",
   "metadata": {},
   "source": [
    "**Load chunks to Chroma**"
   ]
  },
  {
   "cell_type": "code",
   "execution_count": 5,
   "id": "ee861bb0",
   "metadata": {},
   "outputs": [
    {
     "name": "stdout",
     "output_type": "stream",
     "text": [
      "[array([-7.16159940e-02, -3.28083150e-02,  1.37579702e-02,  7.91877741e-04,\n",
      "        3.34563926e-02, -7.69314356e-03,  2.78001633e-02,  5.27220033e-03,\n",
      "        6.70649018e-03, -1.63349696e-02, -6.50985166e-02,  6.27579066e-05,\n",
      "       -2.28739493e-02,  1.39710521e-02,  1.23192325e-01,  1.04662664e-01,\n",
      "        1.33002345e-02, -8.84125754e-02, -1.78203208e-03, -6.06858097e-02,\n",
      "       -3.33663039e-02, -8.00382160e-03, -1.39239831e-02, -1.57964993e-02,\n",
      "        3.73077504e-02,  2.88191792e-02, -8.10246989e-02, -5.41279055e-02,\n",
      "        6.50319830e-02,  2.74751079e-03, -7.52384514e-02,  7.96751678e-02,\n",
      "        6.57480210e-02,  9.62239057e-02,  6.73095742e-03,  4.74736318e-02,\n",
      "        1.18506942e-02,  4.03765701e-02, -5.42807393e-03, -6.85792491e-02,\n",
      "       -3.73591743e-02, -3.53258699e-02, -1.71703212e-02,  3.49534601e-02,\n",
      "        5.58741614e-02, -4.24483046e-02, -5.43240868e-02,  1.04429210e-02,\n",
      "        3.09926365e-02,  9.08052325e-02, -6.71224818e-02, -9.28946808e-02,\n",
      "        5.77814840e-02,  1.56779133e-03, -4.03886773e-02,  3.47563885e-02,\n",
      "        9.85315368e-02,  2.63165683e-02,  6.79912269e-02, -7.73506686e-02,\n",
      "        7.25927111e-03, -3.85424681e-02,  9.36532486e-03,  4.13270816e-02,\n",
      "       -1.93518158e-02,  2.22256053e-02, -2.59032864e-02, -5.29120583e-03,\n",
      "        2.67641731e-02, -5.96313998e-02, -7.72577226e-02, -5.28388657e-03,\n",
      "       -1.46754179e-02,  6.28139898e-02, -2.37745675e-03, -9.87266749e-03,\n",
      "       -3.47111933e-02, -6.40234500e-02,  4.19998914e-02,  9.25568212e-03,\n",
      "        5.17090969e-03,  6.68946952e-02, -2.79926322e-02,  1.29560158e-01,\n",
      "        3.85522470e-03,  3.44178104e-03, -2.52549239e-02,  4.69629057e-02,\n",
      "        3.11685856e-02,  5.99520281e-03, -2.34527681e-02,  2.34351741e-04,\n",
      "        7.04796910e-02, -4.71845316e-03,  2.89337169e-02, -6.07134178e-02,\n",
      "        2.67437473e-02, -8.67729560e-02, -8.02407041e-02,  4.09300141e-02,\n",
      "       -5.53282723e-02,  7.88846463e-02,  2.11226158e-02, -7.24128410e-02,\n",
      "       -6.61854446e-02,  2.66810991e-02,  6.43816441e-02, -1.67848114e-02,\n",
      "        2.00565364e-02,  1.39033776e-02, -2.71698125e-02, -1.60680653e-03,\n",
      "       -7.02654198e-03, -9.70012322e-02,  2.58394536e-02,  1.94917545e-02,\n",
      "       -1.20248772e-01,  7.25409463e-02,  8.01728368e-02,  1.01020731e-01,\n",
      "        5.32242581e-02,  7.49091506e-02, -6.13507554e-02, -3.11379507e-02,\n",
      "        2.44328286e-02, -2.95107812e-02, -2.00879504e-03,  4.32744837e-33,\n",
      "        2.64896620e-02,  7.00305253e-02, -6.47000363e-03,  1.32777184e-01,\n",
      "        1.27707303e-01, -4.59373221e-02,  3.98337804e-02,  2.66950838e-02,\n",
      "       -5.36207184e-02, -6.96846694e-02, -3.41637880e-02,  2.25107335e-02,\n",
      "       -5.74374236e-02,  8.25573877e-02,  7.55181611e-02, -5.54225184e-02,\n",
      "       -7.27688847e-03,  3.97365466e-02, -1.27518354e-02,  3.44220176e-02,\n",
      "        6.23891316e-02, -7.39852041e-02, -1.44017376e-02,  6.50559068e-02,\n",
      "        5.24811372e-02,  4.15644757e-02,  6.77037016e-02,  2.87784077e-02,\n",
      "        1.25942051e-01,  8.74537509e-03, -6.77350089e-02, -2.43095681e-02,\n",
      "       -1.41445417e-02,  4.14873771e-02, -2.85840873e-02, -2.11057384e-02,\n",
      "       -4.80061918e-02, -8.12621489e-02,  4.63368297e-02,  7.70503357e-02,\n",
      "       -1.04257144e-01,  2.88842991e-02,  1.04518607e-02, -6.32892027e-02,\n",
      "        1.06115649e-02, -4.89082076e-02,  6.68341592e-02, -2.57614837e-03,\n",
      "        3.41132842e-02,  4.28101048e-02, -4.37229574e-02,  7.78007358e-02,\n",
      "       -4.50542122e-02,  3.44911180e-02, -3.32474038e-02, -1.18007489e-01,\n",
      "       -4.17288914e-02,  1.60376876e-04,  6.58342615e-02,  1.63632538e-02,\n",
      "       -1.15499292e-02,  2.25443467e-02, -2.20124889e-03,  7.97622949e-02,\n",
      "        6.20190762e-02, -1.95829608e-02,  4.15118113e-02, -3.98263037e-02,\n",
      "        7.77326301e-02,  5.24749793e-02,  1.65594164e-02, -3.11323744e-03,\n",
      "       -4.44835946e-02, -3.61729637e-02, -3.25572640e-02, -1.39310658e-02,\n",
      "       -1.62558276e-02, -5.50444722e-02,  3.27139837e-03, -3.51692103e-02,\n",
      "       -3.15176621e-02,  8.51960946e-03,  3.06526083e-03, -3.76348346e-02,\n",
      "        2.77579203e-02, -9.35442280e-03,  2.79048774e-02, -3.24966684e-02,\n",
      "       -3.06656174e-02,  7.25879148e-02, -9.50690638e-03, -5.41749187e-02,\n",
      "        1.98017899e-02,  3.54220830e-02, -3.73268053e-02, -4.15816286e-33,\n",
      "       -7.13942125e-02, -3.24928388e-02, -7.38967732e-02,  4.15289328e-02,\n",
      "       -5.22337966e-02, -3.62031683e-02, -9.90135688e-03, -7.14158732e-03,\n",
      "        1.52601581e-02,  5.35440929e-02, -5.04333936e-02,  2.31948774e-02,\n",
      "       -1.29932472e-02,  3.81239355e-02,  4.48185205e-02,  3.47299017e-02,\n",
      "       -2.25900766e-03, -5.80464602e-02, -1.72566362e-02,  1.15871206e-02,\n",
      "        3.10994703e-02,  4.92094830e-02, -1.13199592e-01,  1.89779829e-02,\n",
      "       -1.57121615e-03,  4.13598344e-02, -1.14164196e-01, -4.23619300e-02,\n",
      "        2.78437436e-02, -2.56642327e-02, -6.56374916e-02,  3.25800851e-02,\n",
      "       -4.46953997e-02, -5.64891808e-02,  6.13552742e-02,  1.03279613e-02,\n",
      "       -3.26105463e-03,  2.52402555e-02, -3.33909355e-02,  6.24571666e-02,\n",
      "        8.45378488e-02, -7.82859996e-02, -3.48139927e-02, -2.83519402e-02,\n",
      "       -1.95421223e-02,  4.91455607e-02, -9.50158536e-02, -3.41009125e-02,\n",
      "       -3.63211334e-02, -1.63976066e-02,  3.63642201e-02,  1.48823932e-02,\n",
      "       -4.44850586e-02, -1.01338752e-01, -1.02314791e-02, -6.67200387e-02,\n",
      "        2.54776627e-02, -6.49814159e-02, -7.79714212e-02, -1.08756712e-02,\n",
      "       -5.66457585e-02, -2.41095517e-02,  6.09543063e-02,  1.67530980e-02,\n",
      "        6.03422476e-03, -2.08427873e-03, -2.10885182e-02,  4.79878820e-02,\n",
      "       -1.04535133e-01, -2.38850843e-02,  7.02788215e-03, -1.25263082e-02,\n",
      "       -8.98638070e-02, -3.11254337e-02, -9.88507867e-02, -1.71381272e-02,\n",
      "        3.16477120e-02, -6.75102472e-02, -5.39663173e-02, -4.03052792e-02,\n",
      "        1.83491223e-03,  3.02509982e-02,  6.94615543e-02, -2.47966666e-02,\n",
      "       -2.23196186e-02,  1.62447616e-02,  5.44476323e-03,  4.20840085e-02,\n",
      "       -4.48975153e-02,  9.65944678e-02, -8.40960070e-02, -2.13224301e-03,\n",
      "       -8.46681073e-02,  3.19494605e-02, -3.65390703e-02, -4.81192863e-08,\n",
      "       -2.29859864e-03,  6.55637234e-02, -4.78032231e-03, -2.80159749e-02,\n",
      "        1.10824581e-03, -7.13233138e-03,  4.66666697e-03,  1.10688753e-01,\n",
      "        2.97238100e-02,  5.07317297e-02,  4.89793420e-02, -1.14301220e-01,\n",
      "        3.68329138e-02,  2.30239928e-02,  1.51543811e-01,  1.02179408e-01,\n",
      "       -1.65204350e-02,  6.19123457e-03, -2.49857623e-02, -3.85565422e-02,\n",
      "        1.19767368e-01,  2.32291296e-02, -8.88619125e-02,  9.30023321e-04,\n",
      "       -3.19157764e-02, -2.86938176e-02, -1.67122678e-04,  8.10033977e-02,\n",
      "       -2.50528567e-02,  1.43314432e-02, -6.40660943e-03,  3.23904045e-02,\n",
      "        2.68236045e-02, -1.38593568e-02,  1.18096564e-02, -4.19212580e-02,\n",
      "        4.06917930e-02, -6.36233166e-02,  1.04867453e-02, -2.69876551e-02,\n",
      "        2.04615369e-02,  3.31300274e-02, -5.89553937e-02, -1.28377015e-02,\n",
      "       -3.43726426e-02, -6.47361875e-02, -6.41746521e-02, -1.06786780e-01,\n",
      "        6.20465074e-03, -2.19861828e-02, -5.86105846e-02,  5.59355924e-03,\n",
      "        6.84275627e-02,  1.13305166e-01,  8.27739984e-02,  2.43168510e-02,\n",
      "        1.34715596e-02, -4.64664288e-02,  7.32968748e-02,  6.34328425e-02,\n",
      "       -1.11793317e-02,  1.44837918e-02,  3.83146331e-02,  1.13988398e-02],\n",
      "      dtype=float32)]\n"
     ]
    }
   ],
   "source": [
    "import chromadb\n",
    "from chromadb.utils.embedding_functions import SentenceTransformerEmbeddingFunction\n",
    "\n",
    "embedding_function = SentenceTransformerEmbeddingFunction()\n",
    "print(embedding_function([token_split_texts[10]]))"
   ]
  },
  {
   "cell_type": "code",
   "execution_count": 6,
   "id": "8c6a5e83",
   "metadata": {},
   "outputs": [
    {
     "name": "stdout",
     "output_type": "stream",
     "text": [
      "Total count in the 'microsoft_annual_report_2024' collection: 354\n"
     ]
    }
   ],
   "source": [
    "chroma_client = chromadb.Client()\n",
    "chroma_collection = chroma_client.create_collection(\n",
    "    \"microsoft_annual_report_2024\",\n",
    "    embedding_function=embedding_function\n",
    ")\n",
    "\n",
    "ids = [str(i) for i in range(len(token_split_texts))]\n",
    "\n",
    "chroma_collection.add(\n",
    "    ids=ids,\n",
    "    documents=token_split_texts\n",
    ")\n",
    "print(f\"Total count in the '{chroma_collection.name}' collection: {chroma_collection.count()}\")"
   ]
  },
  {
   "cell_type": "markdown",
   "id": "28ae13f7",
   "metadata": {},
   "source": [
    "**Querying/Searching and Retrieving Documents**"
   ]
  },
  {
   "cell_type": "code",
   "execution_count": 7,
   "id": "81739da5",
   "metadata": {},
   "outputs": [
    {
     "name": "stdout",
     "output_type": "stream",
     "text": [
      "('72 note 13 — unearned revenue unearned revenue by segment was as follows : ( in millions ) june 30, 2024 2023 productivity and business '\n",
      " 'processes $ 30, 879 $ 27, 572 intelligent cloud 23, 117 21, 563 more personal computing 6, 188 4, 678 total $ 60, 184 $ 53, 813 changes '\n",
      " 'in unearned revenue were as follows : ( in millions ) year ended june 30, 2024 balance, beginning of period $ 53, 813 deferral of '\n",
      " 'revenue 148, 701 recognition of unearned revenue ( 142, 330 ) balance, end of period $ 60, 184 revenue allocated to remaining '\n",
      " 'performance obligations, which includes unearned revenue and amounts that will be invoiced and recognized as revenue in future periods, '\n",
      " 'was $ 275 billion as of june 30, 2024, of which $ 269 billion is related to the commercial portion of revenue. we expect to recognize '\n",
      " 'approximately 45 % of our total company remaining')\n",
      "\n",
      "\n",
      "('80 no sales to an individual customer or country other than the united states accounted for more than 10 % of revenue for fiscal years '\n",
      " '2024, 2023, or 2022. revenue, classified by the major geographic areas in which our customers were located, was as follows : ( in '\n",
      " 'millions ) year ended june 30, 2024 2023 2022 united states ( a ) $ 124, 704 $ 106, 744 $ 100, 218 other countries 120, 418 105, 171 98, '\n",
      " '052 total $ 245, 122 $ 211, 915 $ 198, 270 ( a ) includes billings to oems and certain multinational organizations because of the nature '\n",
      " 'of these businesses and the impracticability of determining the geographic source of the revenue. revenue, classified by significant '\n",
      " 'product and service offerings, was as follows : ( in millions ) year ended june 30, 2024 2023 2022 server products and cloud services $ '\n",
      " '97, 726 $ 79, 970 $ 67, 350 office products and cloud services 54, 875 48, 848 44, 970')\n",
      "\n",
      "\n",
      "('allocation is measured differently based on the specific facts and circumstances of the costs being allocated and is generally based on '\n",
      " 'relative gross margin or relative headcount. segment revenue and operating income were as follows during the periods presented : ( in '\n",
      " 'millions ) year ended june 30, 2024 2023 2022 revenue productivity and business processes $ 77, 728 $ 69, 274 $ 63, 364 intelligent '\n",
      " 'cloud 105, 362 87, 907 74, 965 more personal computing 62, 032 54, 734 59, 941 total $ 245, 122 $ 211, 915 $ 198, 270 operating income '\n",
      " 'productivity and business processes $ 40, 540 $ 34, 189 $ 29, 690 intelligent cloud 49, 584 37, 884 33, 203 more personal computing 19, '\n",
      " '309 16, 450 20, 490 total $ 109, 433 $ 88, 523 $ 83, 383')\n",
      "\n",
      "\n",
      "('43 financial statements and supplementary data income statements ( in millions, except per share amounts ) year ended june 30, 2024 2023 '\n",
      " '2022 revenue : product $ 64, 773 $ 64, 699 $ 72, 732 service and other 180, 349 147, 216 125, 538 total revenue 245, 122 211, 915 198, '\n",
      " '270 cost of revenue : product 15, 272 17, 804 19, 064 service and other 58, 842 48, 059 43, 586 total cost of revenue 74, 114 65, 863 '\n",
      " '62, 650 gross margin 171, 008 146, 052 135, 620 research and development 29, 510 27, 195 24, 512 sales and marketing 24, 456 22, 759 21, '\n",
      " '825 general and administrative 7, 609 7, 575 5, 900 operating income 109, 433 88, 523 83, 383 other income ( expense ), net ( 1, 646 ) '\n",
      " '788 333 income before income taxes 107, 787 89, 311 83, 716 provision for income taxes 19, 651 16, 950 10, 978 net income $ 88, 136 $ '\n",
      " '72, 361 $ 72, 738')\n",
      "\n",
      "\n",
      "('64 following are the details of the purchase price allocated to the intangible assets acquired : ( in millions, except average life ) '\n",
      " 'amount weighted average life marketing - related $ 11, 619 24 years technology - based 9, 689 4 years customer - related 661 4 years '\n",
      " 'fair value of intangible assets acquired $ 21, 969 15 years following is the net impact of the activision blizzard acquisition on our '\n",
      " 'consolidated income statements since the date of acquisition : ( in millions ) year ended june 30, 2024 revenue $ 5, 729 operating loss '\n",
      " '( 1, 362 ) the change of activision blizzard content from third - party to first - party is reflected in the net impact. following are '\n",
      " 'the supplemental consolidated financial results of microsoft corporation on an unaudited pro forma basis, as if the acquisition had been '\n",
      " 'consummated on july 1, 2022 : ( in millions, except per share amounts ) year ended june 30, 2024 2023')\n",
      "\n",
      "\n"
     ]
    }
   ],
   "source": [
    "from pprint import pprint\n",
    "query = \"What was the total revenue?\"\n",
    "\n",
    "results = chroma_collection.query(\n",
    "    query_texts=[query],\n",
    "    n_results=5\n",
    ")\n",
    "retrieved_documents = results['documents'][0]\n",
    "\n",
    "for document in retrieved_documents:\n",
    "    pprint(document, width=140)\n",
    "    print('\\n')"
   ]
  },
  {
   "cell_type": "markdown",
   "id": "be65b4ce",
   "metadata": {},
   "source": [
    "**Connect an LLM and building a RAG System**"
   ]
  },
  {
   "cell_type": "code",
   "execution_count": 8,
   "id": "45115977",
   "metadata": {},
   "outputs": [],
   "source": [
    "import os\n",
    "import openai\n",
    "from openai import OpenAI   # OpenAI's client\n",
    "from groq import Groq\n",
    "from dotenv import load_dotenv\n",
    "load_dotenv()\n",
    "\n",
    "groq_client = Groq()"
   ]
  },
  {
   "cell_type": "code",
   "execution_count": 9,
   "id": "63f944c3",
   "metadata": {},
   "outputs": [],
   "source": [
    "def rag(query, retrieved_documents, model = \"llama-3.3-70b-versatile\"):\n",
    "    information = \"\\n\\n\".join(retrieved_documents)\n",
    "\n",
    "    messages = [\n",
    "        {\n",
    "            \"role\": \"system\",\n",
    "            \"content\": \"You are a helpful expert financial research assistant. Your users are asking questions about information contained in an annual report.\"\n",
    "            \"You will be shown the user's question, and the relevant information from the annual report. Answer the user's question using only this information.\"\n",
    "        },\n",
    "        {\n",
    "            \"role\": \"user\",\n",
    "            \"content\": f\"Question: {query}. \\nInformation: {information}\"\n",
    "        }\n",
    "    ]\n",
    "\n",
    "    response = groq_client.chat.completions.create(\n",
    "        model=model,\n",
    "        messages=messages\n",
    "    )\n",
    "\n",
    "    return response.choices[0].message.content"
   ]
  },
  {
   "cell_type": "code",
   "execution_count": 10,
   "id": "6d39a60c",
   "metadata": {},
   "outputs": [
    {
     "name": "stdout",
     "output_type": "stream",
     "text": [
      "'The total revenue was $245,122 million for the year ended June 30, 2024.'\n"
     ]
    }
   ],
   "source": [
    "query = \"What was the total revenue?\"\n",
    "\n",
    "output = rag(\n",
    "    query=query,\n",
    "    retrieved_documents=retrieved_documents\n",
    ")\n",
    "\n",
    "pprint(output, width=140)"
   ]
  },
  {
   "cell_type": "markdown",
   "id": "3e43659f",
   "metadata": {},
   "source": [
    "# Pitfalls of Retrieval\n",
    "when simple vector search "
   ]
  },
  {
   "cell_type": "code",
   "execution_count": 11,
   "id": "11b7b6c7",
   "metadata": {},
   "outputs": [
    {
     "data": {
      "text/plain": [
       "354"
      ]
     },
     "execution_count": 11,
     "metadata": {},
     "output_type": "execute_result"
    }
   ],
   "source": [
    "embedding_function = SentenceTransformerEmbeddingFunction()\n",
    "\n",
    "chroma_collection = chroma_client.get_collection(name=\"microsoft_annual_report_2024\")\n",
    "chroma_collection.count()"
   ]
  },
  {
   "cell_type": "code",
   "execution_count": 12,
   "id": "fd9592df",
   "metadata": {},
   "outputs": [],
   "source": [
    "import numpy as np\n",
    "from tqdm import tqdm\n",
    "import matplotlib.pyplot as plt\n",
    "from umap import UMAP"
   ]
  },
  {
   "cell_type": "code",
   "execution_count": 13,
   "id": "7a84239b",
   "metadata": {},
   "outputs": [
    {
     "name": "stderr",
     "output_type": "stream",
     "text": [
      "c:\\Users\\fredr\\AppData\\Local\\Programs\\Python\\Python313\\Lib\\site-packages\\umap\\umap_.py:1952: UserWarning: n_jobs value 1 overridden to 1 by setting random_state. Use no seed for parallelism.\n",
      "  warn(\n"
     ]
    }
   ],
   "source": [
    "embeddings = chroma_collection.get(include=['embeddings'])['embeddings']\n",
    "umap_transform = UMAP(random_state=2049, transform_seed=2049, n_jobs=-1).fit(embeddings)"
   ]
  },
  {
   "cell_type": "code",
   "execution_count": 14,
   "id": "31179716",
   "metadata": {},
   "outputs": [
    {
     "name": "stderr",
     "output_type": "stream",
     "text": [
      "100%|██████████| 354/354 [00:06<00:00, 53.01it/s] \n"
     ]
    }
   ],
   "source": [
    "def project_embeddings(embeddings, umap_transform):\n",
    "    umap_embeddings = np.empty((len(embeddings), 2))\n",
    "    for i, embedding in enumerate(tqdm(embeddings)):\n",
    "        umap_embeddings[i] = umap_transform.transform([embedding])\n",
    "    return umap_embeddings\n",
    "\n",
    "project_dataset_embeddings = project_embeddings(embeddings, umap_transform)"
   ]
  },
  {
   "cell_type": "code",
   "execution_count": 15,
   "id": "049359f9",
   "metadata": {},
   "outputs": [
    {
     "data": {
      "text/plain": [
       "(np.float64(1.4751417875289916),\n",
       " np.float64(13.455329155921936),\n",
       " np.float64(4.763342666625976),\n",
       " np.float64(10.817240905761718))"
      ]
     },
     "execution_count": 15,
     "metadata": {},
     "output_type": "execute_result"
    },
    {
     "data": {
      "image/png": "[encoded data removed]",
      "text/plain": [
       "<Figure size 640x480 with 1 Axes>"
      ]
     },
     "metadata": {},
     "output_type": "display_data"
    }
   ],
   "source": [
    "plt.figure()\n",
    "plt.scatter(project_dataset_embeddings[:, 0], project_dataset_embeddings[:, 1], s=10)\n",
    "plt.gca().set_aspect('equal', 'datalim')\n",
    "plt.title('Projected Embeddings')\n",
    "plt.axis('off')"
   ]
  },
  {
   "cell_type": "markdown",
   "id": "ecdfbbd8",
   "metadata": {},
   "source": [
    "**Relevancy and Distraction**"
   ]
  },
  {
   "cell_type": "code",
   "execution_count": 16,
   "id": "150173d5",
   "metadata": {},
   "outputs": [
    {
     "name": "stdout",
     "output_type": "stream",
     "text": [
      "('72 note 13 — unearned revenue unearned revenue by segment was as follows : ( in millions ) june 30, 2024 2023 productivity and business processes '\n",
      " '$ 30, 879 $ 27, 572 intelligent cloud 23, 117 21, 563 more personal computing 6, 188 4, 678 total $ 60, 184 $ 53, 813 changes in unearned revenue '\n",
      " 'were as follows : ( in millions ) year ended june 30, 2024 balance, beginning of period $ 53, 813 deferral of revenue 148, 701 recognition of '\n",
      " 'unearned revenue ( 142, 330 ) balance, end of period $ 60, 184 revenue allocated to remaining performance obligations, which includes unearned '\n",
      " 'revenue and amounts that will be invoiced and recognized as revenue in future periods, was $ 275 billion as of june 30, 2024, of which $ 269 '\n",
      " 'billion is related to the commercial portion of revenue. we expect to recognize approximately 45 % of our total company remaining')\n",
      "\n",
      "('80 no sales to an individual customer or country other than the united states accounted for more than 10 % of revenue for fiscal years 2024, 2023, '\n",
      " 'or 2022. revenue, classified by the major geographic areas in which our customers were located, was as follows : ( in millions ) year ended june '\n",
      " '30, 2024 2023 2022 united states ( a ) $ 124, 704 $ 106, 744 $ 100, 218 other countries 120, 418 105, 171 98, 052 total $ 245, 122 $ 211, 915 $ '\n",
      " '198, 270 ( a ) includes billings to oems and certain multinational organizations because of the nature of these businesses and the '\n",
      " 'impracticability of determining the geographic source of the revenue. revenue, classified by significant product and service offerings, was as '\n",
      " 'follows : ( in millions ) year ended june 30, 2024 2023 2022 server products and cloud services $ 97, 726 $ 79, 970 $ 67, 350 office products and '\n",
      " 'cloud services 54, 875 48, 848 44, 970')\n",
      "\n",
      "('allocation is measured differently based on the specific facts and circumstances of the costs being allocated and is generally based on relative '\n",
      " 'gross margin or relative headcount. segment revenue and operating income were as follows during the periods presented : ( in millions ) year ended '\n",
      " 'june 30, 2024 2023 2022 revenue productivity and business processes $ 77, 728 $ 69, 274 $ 63, 364 intelligent cloud 105, 362 87, 907 74, 965 more '\n",
      " 'personal computing 62, 032 54, 734 59, 941 total $ 245, 122 $ 211, 915 $ 198, 270 operating income productivity and business processes $ 40, 540 $ '\n",
      " '34, 189 $ 29, 690 intelligent cloud 49, 584 37, 884 33, 203 more personal computing 19, 309 16, 450 20, 490 total $ 109, 433 $ 88, 523 $ 83, 383')\n",
      "\n",
      "('43 financial statements and supplementary data income statements ( in millions, except per share amounts ) year ended june 30, 2024 2023 2022 '\n",
      " 'revenue : product $ 64, 773 $ 64, 699 $ 72, 732 service and other 180, 349 147, 216 125, 538 total revenue 245, 122 211, 915 198, 270 cost of '\n",
      " 'revenue : product 15, 272 17, 804 19, 064 service and other 58, 842 48, 059 43, 586 total cost of revenue 74, 114 65, 863 62, 650 gross margin '\n",
      " '171, 008 146, 052 135, 620 research and development 29, 510 27, 195 24, 512 sales and marketing 24, 456 22, 759 21, 825 general and administrative '\n",
      " '7, 609 7, 575 5, 900 operating income 109, 433 88, 523 83, 383 other income ( expense ), net ( 1, 646 ) 788 333 income before income taxes 107, '\n",
      " '787 89, 311 83, 716 provision for income taxes 19, 651 16, 950 10, 978 net income $ 88, 136 $ 72, 361 $ 72, 738')\n",
      "\n",
      "('64 following are the details of the purchase price allocated to the intangible assets acquired : ( in millions, except average life ) amount '\n",
      " 'weighted average life marketing - related $ 11, 619 24 years technology - based 9, 689 4 years customer - related 661 4 years fair value of '\n",
      " 'intangible assets acquired $ 21, 969 15 years following is the net impact of the activision blizzard acquisition on our consolidated income '\n",
      " 'statements since the date of acquisition : ( in millions ) year ended june 30, 2024 revenue $ 5, 729 operating loss ( 1, 362 ) the change of '\n",
      " 'activision blizzard content from third - party to first - party is reflected in the net impact. following are the supplemental consolidated '\n",
      " 'financial results of microsoft corporation on an unaudited pro forma basis, as if the acquisition had been consummated on july 1, 2022 : ( in '\n",
      " 'millions, except per share amounts ) year ended june 30, 2024 2023')\n",
      "\n"
     ]
    }
   ],
   "source": [
    "results = chroma_collection.query(\n",
    "    query_texts=query,\n",
    "    n_results=5,\n",
    "    include=['documents', 'embeddings']\n",
    ")\n",
    "retrieved_documents = results['documents'][0]\n",
    "for doc in retrieved_documents:\n",
    "    pprint(doc, width=150)\n",
    "    print()"
   ]
  },
  {
   "cell_type": "code",
   "execution_count": null,
   "id": "8d22769c",
   "metadata": {},
   "outputs": [],
   "source": [
    "query_embedding = embedding_function([query])[0]\n",
    "retrieved_embeddings = results['embeddings'][0]\n",
    "\n",
    "project_query_embeddings = project_embeddings([query_embedding], umap_transform)\n",
    "project_retrieved_embeddings = project_embeddings([retrieved_embeddings], umap_transform)"
   ]
  },
  {
   "cell_type": "code",
   "execution_count": null,
   "id": "a42838b3",
   "metadata": {},
   "outputs": [],
   "source": [
    "plt.figure()\n",
    "plt.scatter(project_dataset_embeddings[:, 0], project_dataset_embeddings[:, 1], s=10, color='gray')\n",
    "plt.scatter(project_dataset_embeddings[:, 0], project_query_embeddings[0], s=150, marker='X', colorizer='r')\n",
    "plt.scatter(project_dataset_embeddings[:, 0], project_retrieved_embeddings[:, 1], s=100, facecolors='none', edgecolors='g')\n",
    "\n",
    "\n",
    "plt.gca().set_aspect('equal', 'datalim')\n",
    "plt.title(f'{query}')\n",
    "plt.axis('off')"
   ]
  }
 ],
 "metadata": {
  "kernelspec": {
   "display_name": "Python 3",
   "language": "python",
   "name": "python3"
  },
  "language_info": {
   "codemirror_mode": {
    "name": "ipython",
    "version": 3
   },
   "file_extension": ".py",
   "mimetype": "text/x-python",
   "name": "python",
   "nbconvert_exporter": "python",
   "pygments_lexer": "ipython3",
   "version": "3.13.2"
  }
 },
 "nbformat": 4,
 "nbformat_minor": 5
}
